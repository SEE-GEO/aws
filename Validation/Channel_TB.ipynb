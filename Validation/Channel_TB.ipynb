{
 "cells": [
  {
   "cell_type": "markdown",
   "metadata": {},
   "source": [
    "## Estimate AWS channel TBs from ARTS output"
   ]
  },
  {
   "cell_type": "code",
   "execution_count": 1,
   "metadata": {},
   "outputs": [],
   "source": [
    "import numpy as np\n",
    "import xarray\n",
    "import glob\n",
    "import os\n",
    "import matplotlib.pyplot as plt\n",
    "from Channel_TB import get_BT, interpolate_spline, calculate_polarisations, get_channel_BT"
   ]
  },
  {
   "cell_type": "markdown",
   "metadata": {},
   "source": [
    "Read arts output"
   ]
  },
  {
   "cell_type": "code",
   "execution_count": 2,
   "metadata": {},
   "outputs": [],
   "source": [
    "files_clearsky = glob.glob(os.path.expanduser('~/Dendrite/Projects/AWS-325GHz/AWS_m30_p30/c_of_*_clearsky.nc'))\n",
    "\n",
    "files_allsky = [files_clearsky[i].replace('_clearsky.nc', '.nc') for i in range(len(files_clearsky))]\n"
   ]
  },
  {
   "cell_type": "markdown",
   "metadata": {},
   "source": [
    "Read all orbitwise ARTS output in `files_clearky` or `files_allsky` into a xarray "
   ]
  },
  {
   "cell_type": "code",
   "execution_count": 3,
   "metadata": {},
   "outputs": [
    {
     "name": "stdout",
     "output_type": "stream",
     "text": [
      "1\n",
      "------\n",
      "1\n"
     ]
    }
   ],
   "source": [
    "BT = get_BT([files_clearsky[4]])\n",
    "print ('------')\n",
    "BT_A = get_BT([files_allsky[4]])"
   ]
  },
  {
   "cell_type": "markdown",
   "metadata": {},
   "source": [
    "#### Compute the polarisations from Stokes elements, the result is a xarray with following dimensions:\n",
    "\n",
    "    TB = xarray.DataArray(TB[cases, nviews, nchannels, polarisation],\n",
    "                     dims=('cases', 'atm_views', 'channels', 'polarisation'),\n",
    "                    coords={'cases': np.arange(0, cases, 1),\n",
    "                            'atm_views' : atm_views,\n",
    "                            'channels' : channels,\n",
    "                            'polarisation' : ['H', 'V']})\n"
   ]
  },
  {
   "cell_type": "code",
   "execution_count": 4,
   "metadata": {},
   "outputs": [],
   "source": [
    "no_channels = 18\n",
    "TB_all = calculate_polarisations(BT_A, no_channels)"
   ]
  },
  {
   "cell_type": "markdown",
   "metadata": {},
   "source": [
    "#### Subset `TB_all` into `TB`, for the atm_views and polarisation"
   ]
  },
  {
   "cell_type": "code",
   "execution_count": 5,
   "metadata": {},
   "outputs": [
    {
     "data": {
      "text/html": [
       "<pre>&lt;xarray.DataArray (cases: 621, channels: 18)&gt;\n",
       "array([[241.08201599, 276.38299561, 269.5199585 , ..., 259.46194458,\n",
       "        262.27127075, 263.76849365],\n",
       "       [238.99276733, 276.53793335, 269.74627686, ..., 259.61807251,\n",
       "        262.44607544, 263.95281982],\n",
       "       [238.77656555, 276.6612854 , 269.9395752 , ..., 259.77270508,\n",
       "        262.61819458, 264.13299561],\n",
       "       ...,\n",
       "       [220.23934937, 279.00881958, 278.74935913, ..., 268.83901978,\n",
       "        271.48220825, 272.97930908],\n",
       "       [220.03089905, 278.84506226, 278.69107056, ..., 268.73312378,\n",
       "        271.39529419, 272.90286255],\n",
       "       [219.824646  , 278.68130493, 278.63220215, ..., 268.62747192,\n",
       "        271.30841064, 272.82629395]])\n",
       "Coordinates:\n",
       "  * cases         (cases) int64 0 1 2 3 4 5 6 7 ... 614 615 616 617 618 619 620\n",
       "    atm_views     float64 180.0\n",
       "  * channels      (channels) int64 0 1 2 3 4 5 6 7 8 9 10 11 12 13 14 15 16 17\n",
       "    polarisation  &lt;U1 &#x27;H&#x27;</pre>"
      ],
      "text/plain": [
       "<xarray.DataArray (cases: 621, channels: 18)>\n",
       "array([[241.08201599, 276.38299561, 269.5199585 , ..., 259.46194458,\n",
       "        262.27127075, 263.76849365],\n",
       "       [238.99276733, 276.53793335, 269.74627686, ..., 259.61807251,\n",
       "        262.44607544, 263.95281982],\n",
       "       [238.77656555, 276.6612854 , 269.9395752 , ..., 259.77270508,\n",
       "        262.61819458, 264.13299561],\n",
       "       ...,\n",
       "       [220.23934937, 279.00881958, 278.74935913, ..., 268.83901978,\n",
       "        271.48220825, 272.97930908],\n",
       "       [220.03089905, 278.84506226, 278.69107056, ..., 268.73312378,\n",
       "        271.39529419, 272.90286255],\n",
       "       [219.824646  , 278.68130493, 278.63220215, ..., 268.62747192,\n",
       "        271.30841064, 272.82629395]])\n",
       "Coordinates:\n",
       "  * cases         (cases) int64 0 1 2 3 4 5 6 7 ... 614 615 616 617 618 619 620\n",
       "    atm_views     float64 180.0\n",
       "  * channels      (channels) int64 0 1 2 3 4 5 6 7 8 9 10 11 12 13 14 15 16 17\n",
       "    polarisation  <U1 'H'"
      ]
     },
     "execution_count": 5,
     "metadata": {},
     "output_type": "execute_result"
    }
   ],
   "source": [
    "atm_views = [135.0, 140.0, 145.0, 150.0, 155.0, 160.0, 165.0, 170.0, 175.0, 180.0] \n",
    "\n",
    "itheta = 9\n",
    "P = 0\n",
    "\n",
    "TB = TB_all[:, itheta, :, P]\n",
    "TB"
   ]
  },
  {
   "cell_type": "markdown",
   "metadata": {},
   "source": [
    "#### List of all monochromatic channels simulated from ARTS"
   ]
  },
  {
   "cell_type": "code",
   "execution_count": 6,
   "metadata": {},
   "outputs": [],
   "source": [
    "channels = np.array([89.0000,\n",
    "  165.5000,\n",
    "  175.8110,\n",
    "  177.4360,\n",
    "  179.0610,\n",
    "  180.6860,\n",
    "  182.3110,\n",
    "  229.0000,\n",
    "  316.6500,\n",
    "  318.5250,\n",
    "  320.4000,\n",
    "  322.2750,\n",
    "  324.1500,\n",
    "  326.1500,\n",
    "  328.0250,\n",
    "  329.9000,\n",
    "  331.7750,\n",
    "  333.6500])*1e9\n"
   ]
  },
  {
   "cell_type": "markdown",
   "metadata": {},
   "source": [
    "##### Window Channels "
   ]
  },
  {
   "cell_type": "code",
   "execution_count": 7,
   "metadata": {},
   "outputs": [],
   "source": [
    "index = np.squeeze(np.argwhere(channels == 89e9))\n",
    "TB_89 = TB[:, index]\n",
    "\n",
    "index = np.squeeze(np.argwhere(channels ==165.5e9))\n",
    "TB_166 = TB[:, index]\n",
    "\n",
    "index = np.squeeze(np.argwhere(channels == 229e9))\n",
    "TB_229 = TB[:, index]\n"
   ]
  },
  {
   "cell_type": "markdown",
   "metadata": {},
   "source": [
    "#### Interpolate 183GHz channel to a finer grid"
   ]
  },
  {
   "cell_type": "code",
   "execution_count": 8,
   "metadata": {},
   "outputs": [],
   "source": [
    "index = np.squeeze(np.argwhere((channels > 170e9) & (channels < 183e9)))\n",
    "TB_183 = TB[:, index]\n",
    "\n",
    "channels_183 = np.array([176.311, 178.811, 180.311, 181.511, 182.311])*1e9\n",
    "bandwidth_183 = np.array([2000, 2000, 1000, 1000, 500])*1e6\n",
    "\n",
    "channels_183_fine = np.arange(channels_183.min()-bandwidth_183[0]/2., \n",
    "                              channels_183.max()+bandwidth_183[4]/2., 5e6)\n",
    "\n",
    "\n",
    "\n",
    "TB_183_fine = interpolate_spline(TB[:, index], channels[index], channels_183_fine)"
   ]
  },
  {
   "cell_type": "markdown",
   "metadata": {},
   "source": [
    "#### 3 option Channel 325.15GHz"
   ]
  },
  {
   "cell_type": "code",
   "execution_count": 9,
   "metadata": {},
   "outputs": [],
   "source": [
    "bandwidth_325 = np.array([3000, 2500, 1200])*1e6\n",
    "channels_325l = np.array((325.15e9 - np.array([6.50,\n",
    "                                            3.55,\n",
    "                                            1.60])*1e9))\n",
    "\n",
    "channels_325u = np.array((325.15e9 + np.array([6.50,\n",
    "                                            3.55,\n",
    "                                            1.60])*1e9))"
   ]
  },
  {
   "cell_type": "markdown",
   "metadata": {},
   "source": [
    "#### Interpolate 325 GHz - low channel to a finer grid"
   ]
  },
  {
   "cell_type": "code",
   "execution_count": 10,
   "metadata": {},
   "outputs": [],
   "source": [
    "index = np.squeeze(np.argwhere((channels > 300e9) & (channels < 325.15e9)))\n",
    "\n",
    "channels_325l_fine = np.arange(channels_325l.min()-bandwidth_325[0]/2.0, \n",
    "                               channels_325l.max()+bandwidth_325[2]/2.0, 5e6)\n",
    "\n",
    "TB_325l_fine = interpolate_spline(TB[:, index], channels[index], channels_325l_fine)\n"
   ]
  },
  {
   "cell_type": "markdown",
   "metadata": {},
   "source": [
    "#### Interpolate 325GHz-upper channel to a finer grid"
   ]
  },
  {
   "cell_type": "code",
   "execution_count": 11,
   "metadata": {},
   "outputs": [],
   "source": [
    "index = np.squeeze(np.argwhere((channels > 325e9) & (channels < 340e9)))\n",
    "\n",
    "\n",
    "\n",
    "channels_325u_fine = np.arange(channels_325u.min()-bandwidth_325[2]/2., \n",
    "                               channels_325u.max()+bandwidth_325[0]/2., 5e6)\n",
    "\n",
    "TB_325u_fine = interpolate_spline(TB[:, index], channels[index], channels_325u_fine)\n"
   ]
  },
  {
   "cell_type": "markdown",
   "metadata": {},
   "source": [
    "#### Form AWS channel TBs from the interpolated values   "
   ]
  },
  {
   "cell_type": "code",
   "execution_count": 12,
   "metadata": {},
   "outputs": [],
   "source": [
    "TB_325l = get_channel_BT(TB_325l_fine, channels_325l_fine, channels_325l, bandwidth_325)\n",
    "\n",
    "TB_325u = get_channel_BT(TB_325u_fine, channels_325u_fine, channels_325u, bandwidth_325)\n"
   ]
  },
  {
   "cell_type": "code",
   "execution_count": 13,
   "metadata": {},
   "outputs": [],
   "source": [
    "TB_325 = (TB_325l + TB_325u)/2"
   ]
  },
  {
   "cell_type": "code",
   "execution_count": 14,
   "metadata": {},
   "outputs": [],
   "source": [
    "TB_183 = get_channel_BT(TB_183_fine, channels_183_fine, channels_183 , bandwidth_183)\n"
   ]
  },
  {
   "cell_type": "markdown",
   "metadata": {},
   "source": [
    "#### Define a new xarray `TB` with all the AWS channels\n"
   ]
  },
  {
   "cell_type": "code",
   "execution_count": 15,
   "metadata": {},
   "outputs": [],
   "source": [
    "C = np.stack((TB_89, \n",
    "                    TB_166,\n",
    "                    TB_183[0,:], TB_183[1, :], TB_183[2, :], TB_183[3, :], TB_183[4, :],\n",
    "                    TB_229,\n",
    "                    TB_325[0, :], TB_325[1, :], TB_325[2, :] ))\n",
    "\n",
    "channels = np.array(['C21','C31', 'C32', 'C33', 'C34', 'C35', 'C36', 'C4X', 'C41', 'C42', 'C43'])\n",
    "cases = np.arange(0, C[1].shape[0], 1)\n",
    "TB_AWS = xarray.DataArray(C, coords = [channels, cases], dims = ['channels', 'cases'], name = 'TB')\n",
    "TB_AWS.to_netcdf('TB.nc', 'w')"
   ]
  },
  {
   "cell_type": "markdown",
   "metadata": {},
   "source": [
    "Write interpolated TBs to netcdf file"
   ]
  },
  {
   "cell_type": "code",
   "execution_count": 16,
   "metadata": {},
   "outputs": [],
   "source": [
    "#channels = channels_183_fine\n",
    "#cases = np.arange(0, 621, 1)\n",
    "#interpolated_TB = xarray.DataArray(TB_183_fine, coords = [cases, channels],\n",
    "#                                       dims = ['cases', 'channels'], name = 'interpolated_TB_183')\n",
    "\n",
    "#interpolated_TB.to_netcdf('183_fine.nc', 'w')\n",
    "\n",
    "\n",
    "#channels = channels_325l_fine\n",
    "#cases = np.arange(0, TB_325l_fine.shape[0], 1)\n",
    "#interpolated_TB = xarray.DataArray(TB_325l_fine, coords = [cases, channels],\n",
    "#                                       dims = ['cases', 'channels'], name = 'interpolated_TB_325l')\n",
    "\n",
    "#interpolated_TB.to_netcdf('325l_fine.nc', 'w')\n",
    "\n",
    "#print (TB_325l_fine.shape)\n",
    "#channels = channels_325u_fine\n",
    "#cases = np.arange(0, TB_325u_fine.shape[0], 1)\n",
    "#interpolated_TB = xarray.DataArray(TB_325u_fine, coords = [cases, channels],\n",
    "#                                       dims = ['cases', 'channels'], name = 'interpolated_TB_325u')\n",
    "\n",
    "#interpolated_TB.to_netcdf('325u_fine.nc', 'w')"
   ]
  },
  {
   "cell_type": "code",
   "execution_count": null,
   "metadata": {},
   "outputs": [],
   "source": []
  },
  {
   "cell_type": "markdown",
   "metadata": {},
   "source": [
    "####  scatter density plot between two channels"
   ]
  },
  {
   "cell_type": "code",
   "execution_count": 17,
   "metadata": {},
   "outputs": [
    {
     "data": {
      "text/plain": [
       "[<matplotlib.lines.Line2D at 0x7f041832c550>]"
      ]
     },
     "execution_count": 17,
     "metadata": {},
     "output_type": "execute_result"
    },
    {
     "data": {
      "image/png": "[encoded data removed]",
      "text/plain": [
       "<Figure size 1296x576 with 3 Axes>"
      ]
     },
     "metadata": {
      "needs_background": "light"
     },
     "output_type": "display_data"
    }
   ],
   "source": [
    "plt.rcParams.update({'font.size': 16})\n",
    "fig, (ax1, ax2, ax3) = plt.subplots(1,3, figsize=(18, 8))\n",
    "fig.tight_layout(pad=4.0)\n",
    "#C33, C41, z = density(C33, C41)\n",
    "ax1.scatter(TB_AWS[3, :], TB_AWS[8, :], edgecolor='')\n",
    "ax1.set_xlabel('AWS-33 (178.811GHz)', fontsize = 16)\n",
    "ax1.set_ylabel('AWS-41 (325.15$\\pm$ 6.50 GHz)', fontsize = 16)\n",
    "#ax1.set_xlim(240, 290)\n",
    "#ax1.set_ylim(240, 290)\n",
    "#ax1.set_xlim(75, 290)\n",
    "#ax1.set_ylim(75, 290)\n",
    "\n",
    "#C34, C42, z = density(C34, C42)\n",
    "ax2.scatter(TB_AWS[4, :], TB_AWS[9,:], edgecolor='')\n",
    "ax2.set_xlabel('AWS-34 (180.311GHz)', fontsize = 16)\n",
    "ax2.set_ylabel('AWS-42 (325.15$\\pm$ 3.55GHz )', fontsize = 16)\n",
    "#ax2.set_xlim(240, 290)\n",
    "#ax2.set_ylim(240, 290)\n",
    "#ax2.set_xlim(75, 290)\n",
    "#ax2.set_ylim(75, 290)\n",
    "\n",
    "#C35, C43, z = density(C35, C43)\n",
    "ax3.scatter(TB_AWS[5, :], TB_AWS[10, :],edgecolor='')\n",
    "ax3.set_xlabel('AWS-35 (181.511GHz)', fontsize = 16)\n",
    "ax3.set_ylabel('AWS-43 (325.15 $\\pm $1.60 GHz)', fontsize = 16)\n",
    "#ax3.set_xlim(240, 290)\n",
    "#ax3.set_ylim(240, 290)\n",
    "#ax3.set_xlim(75, 290)\n",
    "#ax3.set_ylim(75, 290)\n",
    "    \n",
    "x = np.linspace(*ax1.get_xlim())\n",
    "ax1.plot(x, x)\n",
    "ax2.plot(x, x)\n",
    "ax3.plot(x, x)\n"
   ]
  }
 ],
 "metadata": {
  "kernelspec": {
   "display_name": "Python 3",
   "language": "python",
   "name": "python3"
  },
  "language_info": {
   "codemirror_mode": {
    "name": "ipython",
    "version": 3
   },
   "file_extension": ".py",
   "mimetype": "text/x-python",
   "name": "python",
   "nbconvert_exporter": "python",
   "pygments_lexer": "ipython3",
   "version": "3.7.6"
  }
 },
 "nbformat": 4,
 "nbformat_minor": 4
}
