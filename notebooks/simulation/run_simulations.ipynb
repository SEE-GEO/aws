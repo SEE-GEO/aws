{
 "cells": [
  {
   "cell_type": "markdown",
   "metadata": {},
   "source": [
    "# Performing simulations\n",
    "\n",
    "This notebook performs a range of simulations in parallel using the \n",
    "ipyparallel package to coordinate distributed execution."
   ]
  },
  {
   "cell_type": "code",
   "execution_count": 1,
   "metadata": {},
   "outputs": [],
   "source": [
    "%matplotlib inline\n",
    "import matplotlib.pyplot as plt\n",
    "import numpy as np\n",
    "import ipyparallel as ipp"
   ]
  },
  {
   "cell_type": "code",
   "execution_count": 2,
   "metadata": {},
   "outputs": [],
   "source": [
    "from aws.retrieval import Simulation, Retrieval\n",
    "from aws.data import RandomProfile\n",
    "from aws.sensor import ATMS"
   ]
  },
  {
   "cell_type": "markdown",
   "metadata": {},
   "source": [
    "## ipyparallel setup\n",
    "\n",
    "We use the ipyparallel profile `gold`, which comprises 24 engines running on the six\n",
    "available gold servers."
   ]
  },
  {
   "cell_type": "code",
   "execution_count": 3,
   "metadata": {},
   "outputs": [],
   "source": [
    "from aws.retrieval import Retrieval\n",
    "client = ipp.Client(profile=\"gold\")"
   ]
  },
  {
   "cell_type": "code",
   "execution_count": 4,
   "metadata": {},
   "outputs": [
    {
     "name": "stdout",
     "output_type": "stream",
     "text": [
      "[stdout:0] env: OMP_NUM_THREADS=1\n",
      "[stdout:1] env: OMP_NUM_THREADS=1\n",
      "[stdout:2] env: OMP_NUM_THREADS=1\n",
      "[stdout:3] env: OMP_NUM_THREADS=1\n",
      "[stdout:4] env: OMP_NUM_THREADS=1\n",
      "[stdout:5] env: OMP_NUM_THREADS=1\n",
      "[stdout:6] env: OMP_NUM_THREADS=1\n",
      "[stdout:7] env: OMP_NUM_THREADS=1\n",
      "[stdout:8] env: OMP_NUM_THREADS=1\n",
      "[stdout:9] env: OMP_NUM_THREADS=1\n",
      "[stdout:10] env: OMP_NUM_THREADS=1\n",
      "[stdout:11] env: OMP_NUM_THREADS=1\n",
      "[stdout:12] env: OMP_NUM_THREADS=1\n",
      "[stdout:13] env: OMP_NUM_THREADS=1\n",
      "[stdout:14] env: OMP_NUM_THREADS=1\n",
      "[stdout:15] env: OMP_NUM_THREADS=1\n",
      "[stdout:16] env: OMP_NUM_THREADS=1\n",
      "[stdout:17] env: OMP_NUM_THREADS=1\n",
      "[stdout:18] env: OMP_NUM_THREADS=1\n",
      "[stdout:19] env: OMP_NUM_THREADS=1\n",
      "[stdout:20] env: OMP_NUM_THREADS=1\n",
      "[stdout:21] env: OMP_NUM_THREADS=1\n",
      "[stdout:22] env: OMP_NUM_THREADS=1\n",
      "[stdout:23] env: OMP_NUM_THREADS=1\n"
     ]
    }
   ],
   "source": [
    "%%px\n",
    "%env OMP_NUM_THREADS=1"
   ]
  },
  {
   "cell_type": "markdown",
   "metadata": {},
   "source": [
    "## Setting up the simulation\n",
    "\n",
    "We set up the simulation with the simplified ATMS sensor on the host."
   ]
  },
  {
   "cell_type": "code",
   "execution_count": 5,
   "metadata": {},
   "outputs": [
    {
     "name": "stdout",
     "output_type": "stream",
     "text": [
      "constructor\n"
     ]
    }
   ],
   "source": [
    "sensor = ATMS()\n",
    "ice_shape = \"Perpendicular3BulletRosette\"\n",
    "data_provider = RandomProfile(\"/home/simonpf/Dendrite/Projects/AWS-325GHz/CasesV1\")"
   ]
  },
  {
   "cell_type": "code",
   "execution_count": 6,
   "metadata": {},
   "outputs": [],
   "source": [
    "retrieval = Retrieval(data_provider, ice_shape)\n",
    "data_provider.add(retrieval)"
   ]
  },
  {
   "cell_type": "code",
   "execution_count": 7,
   "metadata": {},
   "outputs": [],
   "source": [
    "simulation = Simulation(sensor, data_provider, ice_shape)\n",
    "inputs = [(\"filename\", (\"name_length\",)),\n",
    "          (\"profile_index\", ())]\n",
    "simulation.initialize_output_file(\"/home/simonpf/src/aws/data/simulations.nc\",\n",
    "                                 [(\"cases\", -1, 0)],\n",
    "                                 inputs=inputs)"
   ]
  },
  {
   "cell_type": "markdown",
   "metadata": {},
   "source": [
    "## Running the simulations\n",
    "\n",
    "Running the simulations is performed using `run_ranges` method, which runs the simulations for a range of profiles. The computations themselves are performed on the ipyparallel engines running on the gold servers."
   ]
  },
  {
   "cell_type": "code",
   "execution_count": 8,
   "metadata": {},
   "outputs": [],
   "source": [
    "results = simulation.run_ranges(range(1000), ipyparallel_client=client)"
   ]
  }
 ],
 "metadata": {
  "kernelspec": {
   "display_name": "Python 3",
   "language": "python",
   "name": "python3"
  },
  "language_info": {
   "codemirror_mode": {
    "name": "ipython",
    "version": 3
   },
   "file_extension": ".py",
   "mimetype": "text/x-python",
   "name": "python",
   "nbconvert_exporter": "python",
   "pygments_lexer": "ipython3",
   "version": "3.7.4"
  }
 },
 "nbformat": 4,
 "nbformat_minor": 2
}
